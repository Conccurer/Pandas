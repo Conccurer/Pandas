{
 "cells": [
  {
   "cell_type": "markdown",
   "metadata": {},
   "source": [
    "# Count Data In A DataFrame"
   ]
  },
  {
   "cell_type": "code",
   "execution_count": 1,
   "metadata": {},
   "outputs": [
    {
     "data": {
      "text/html": [
       "<div>\n",
       "<style scoped>\n",
       "    .dataframe tbody tr th:only-of-type {\n",
       "        vertical-align: middle;\n",
       "    }\n",
       "\n",
       "    .dataframe tbody tr th {\n",
       "        vertical-align: top;\n",
       "    }\n",
       "\n",
       "    .dataframe thead th {\n",
       "        text-align: right;\n",
       "    }\n",
       "</style>\n",
       "<table border=\"1\" class=\"dataframe\">\n",
       "  <thead>\n",
       "    <tr style=\"text-align: right;\">\n",
       "      <th></th>\n",
       "      <th>Breed</th>\n",
       "      <th>Color</th>\n",
       "      <th>DogName</th>\n",
       "      <th>OwnerZip</th>\n",
       "    </tr>\n",
       "  </thead>\n",
       "  <tbody>\n",
       "    <tr>\n",
       "      <th>0</th>\n",
       "      <td>COCKAPOO</td>\n",
       "      <td>BROWN</td>\n",
       "      <td>CHARLEY</td>\n",
       "      <td>15236</td>\n",
       "    </tr>\n",
       "    <tr>\n",
       "      <th>1</th>\n",
       "      <td>GER SHEPHERD</td>\n",
       "      <td>BLACK/BROWN</td>\n",
       "      <td>TACODA</td>\n",
       "      <td>15238</td>\n",
       "    </tr>\n",
       "    <tr>\n",
       "      <th>2</th>\n",
       "      <td>BELG MALINOIS</td>\n",
       "      <td>BRINDLE</td>\n",
       "      <td>EICH</td>\n",
       "      <td>15238</td>\n",
       "    </tr>\n",
       "    <tr>\n",
       "      <th>3</th>\n",
       "      <td>MIXED</td>\n",
       "      <td>BLACK/BROWN</td>\n",
       "      <td>ARROW</td>\n",
       "      <td>15104</td>\n",
       "    </tr>\n",
       "    <tr>\n",
       "      <th>4</th>\n",
       "      <td>AM PIT BULL TERRIER</td>\n",
       "      <td>WHITE/BROWN</td>\n",
       "      <td>OAKLEY</td>\n",
       "      <td>15139</td>\n",
       "    </tr>\n",
       "    <tr>\n",
       "      <th>...</th>\n",
       "      <td>...</td>\n",
       "      <td>...</td>\n",
       "      <td>...</td>\n",
       "      <td>...</td>\n",
       "    </tr>\n",
       "    <tr>\n",
       "      <th>2665</th>\n",
       "      <td>GOLDENDOODLE</td>\n",
       "      <td>BROWN</td>\n",
       "      <td>WINSLOW</td>\n",
       "      <td>15044</td>\n",
       "    </tr>\n",
       "    <tr>\n",
       "      <th>2666</th>\n",
       "      <td>YORKSHIRE TERRIER</td>\n",
       "      <td>BLACK/BROWN</td>\n",
       "      <td>ROCKY KALAKOS</td>\n",
       "      <td>15220</td>\n",
       "    </tr>\n",
       "    <tr>\n",
       "      <th>2667</th>\n",
       "      <td>LAB MIX</td>\n",
       "      <td>WHITE/BLACK/BROWN</td>\n",
       "      <td>ELLIE</td>\n",
       "      <td>15220</td>\n",
       "    </tr>\n",
       "    <tr>\n",
       "      <th>2668</th>\n",
       "      <td>GOLDENDOODLE</td>\n",
       "      <td>WHITE</td>\n",
       "      <td>CLARENCE</td>\n",
       "      <td>15143</td>\n",
       "    </tr>\n",
       "    <tr>\n",
       "      <th>2669</th>\n",
       "      <td>SHETLAND SHEEPDOG</td>\n",
       "      <td>BLACK</td>\n",
       "      <td>GRIFFIN</td>\n",
       "      <td>15136</td>\n",
       "    </tr>\n",
       "  </tbody>\n",
       "</table>\n",
       "<p>2670 rows × 4 columns</p>\n",
       "</div>"
      ],
      "text/plain": [
       "                    Breed              Color        DogName  OwnerZip\n",
       "0                COCKAPOO              BROWN        CHARLEY     15236\n",
       "1            GER SHEPHERD        BLACK/BROWN         TACODA     15238\n",
       "2           BELG MALINOIS            BRINDLE           EICH     15238\n",
       "3                   MIXED        BLACK/BROWN          ARROW     15104\n",
       "4     AM PIT BULL TERRIER        WHITE/BROWN         OAKLEY     15139\n",
       "...                   ...                ...            ...       ...\n",
       "2665         GOLDENDOODLE              BROWN        WINSLOW     15044\n",
       "2666    YORKSHIRE TERRIER        BLACK/BROWN  ROCKY KALAKOS     15220\n",
       "2667              LAB MIX  WHITE/BLACK/BROWN          ELLIE     15220\n",
       "2668         GOLDENDOODLE              WHITE       CLARENCE     15143\n",
       "2669    SHETLAND SHEEPDOG              BLACK        GRIFFIN     15136\n",
       "\n",
       "[2670 rows x 4 columns]"
      ]
     },
     "execution_count": 1,
     "metadata": {},
     "output_type": "execute_result"
    }
   ],
   "source": [
    "import pandas as pd\n",
    "import numpy as np\n",
    "\n",
    "my_df = pd.read_csv('dog_data.csv')\n",
    "my_df"
   ]
  },
  {
   "cell_type": "code",
   "execution_count": 2,
   "metadata": {},
   "outputs": [
    {
     "data": {
      "text/plain": [
       "Color\n",
       "BLACK                   371\n",
       "BROWN                   309\n",
       "WHITE                   226\n",
       "WHITE/BLACK             196\n",
       "BLACK/BROWN             183\n",
       "                       ... \n",
       "BROWN/ORANGE              1\n",
       "BLACK/ORANGE/BRINDLE      1\n",
       "BROWN/FAWN                1\n",
       "BLACK/BROWN/GREY          1\n",
       "BROWN/LIVER               1\n",
       "Name: count, Length: 72, dtype: int64"
      ]
     },
     "execution_count": 2,
     "metadata": {},
     "output_type": "execute_result"
    }
   ],
   "source": [
    "my_df['Color'].value_counts()"
   ]
  },
  {
   "cell_type": "code",
   "execution_count": 3,
   "metadata": {},
   "outputs": [
    {
     "data": {
      "text/plain": [
       "Color\n",
       "BROWN/ORANGE              1\n",
       "BLACK/ORANGE/BRINDLE      1\n",
       "BROWN/LIVER               1\n",
       "BLACK/BROWN/GREY          1\n",
       "BROWN/FAWN                1\n",
       "                       ... \n",
       "BLACK/BROWN             183\n",
       "WHITE/BLACK             196\n",
       "WHITE                   226\n",
       "BROWN                   309\n",
       "BLACK                   371\n",
       "Name: count, Length: 72, dtype: int64"
      ]
     },
     "execution_count": 3,
     "metadata": {},
     "output_type": "execute_result"
    }
   ],
   "source": [
    "my_df['Color'].value_counts(ascending=True)"
   ]
  },
  {
   "cell_type": "code",
   "execution_count": 4,
   "metadata": {},
   "outputs": [
    {
     "data": {
      "text/html": [
       "<div>\n",
       "<style scoped>\n",
       "    .dataframe tbody tr th:only-of-type {\n",
       "        vertical-align: middle;\n",
       "    }\n",
       "\n",
       "    .dataframe tbody tr th {\n",
       "        vertical-align: top;\n",
       "    }\n",
       "\n",
       "    .dataframe thead th {\n",
       "        text-align: right;\n",
       "    }\n",
       "</style>\n",
       "<table border=\"1\" class=\"dataframe\">\n",
       "  <thead>\n",
       "    <tr style=\"text-align: right;\">\n",
       "      <th></th>\n",
       "      <th>Breed</th>\n",
       "      <th>Color</th>\n",
       "      <th>DogName</th>\n",
       "      <th>OwnerZip</th>\n",
       "    </tr>\n",
       "  </thead>\n",
       "  <tbody>\n",
       "    <tr>\n",
       "      <th>0</th>\n",
       "      <td>COCKAPOO</td>\n",
       "      <td>BROWN</td>\n",
       "      <td>CHARLEY</td>\n",
       "      <td>15236</td>\n",
       "    </tr>\n",
       "    <tr>\n",
       "      <th>1</th>\n",
       "      <td>GER SHEPHERD</td>\n",
       "      <td>BLACK/BROWN</td>\n",
       "      <td>TACODA</td>\n",
       "      <td>15238</td>\n",
       "    </tr>\n",
       "    <tr>\n",
       "      <th>2</th>\n",
       "      <td>BELG MALINOIS</td>\n",
       "      <td>BRINDLE</td>\n",
       "      <td>EICH</td>\n",
       "      <td>15238</td>\n",
       "    </tr>\n",
       "    <tr>\n",
       "      <th>3</th>\n",
       "      <td>MIXED</td>\n",
       "      <td>BLACK/BROWN</td>\n",
       "      <td>ARROW</td>\n",
       "      <td>15104</td>\n",
       "    </tr>\n",
       "    <tr>\n",
       "      <th>4</th>\n",
       "      <td>AM PIT BULL TERRIER</td>\n",
       "      <td>WHITE/BROWN</td>\n",
       "      <td>OAKLEY</td>\n",
       "      <td>15139</td>\n",
       "    </tr>\n",
       "    <tr>\n",
       "      <th>5</th>\n",
       "      <td>SCOTTISH TERRIER</td>\n",
       "      <td>BLACK</td>\n",
       "      <td>BAILEY</td>\n",
       "      <td>15129</td>\n",
       "    </tr>\n",
       "    <tr>\n",
       "      <th>6</th>\n",
       "      <td>YORKSHIRE TERRIER</td>\n",
       "      <td>BLACK/TAN</td>\n",
       "      <td>MIMI PEARL FOSTER</td>\n",
       "      <td>15090</td>\n",
       "    </tr>\n",
       "    <tr>\n",
       "      <th>7</th>\n",
       "      <td>DACHSHUND MIX</td>\n",
       "      <td>WHITE/BROWN</td>\n",
       "      <td>LEROI</td>\n",
       "      <td>15101</td>\n",
       "    </tr>\n",
       "    <tr>\n",
       "      <th>8</th>\n",
       "      <td>SHETLAND SHEEPDOG</td>\n",
       "      <td>WHITE/BROWN</td>\n",
       "      <td>ZOE VITSAS</td>\n",
       "      <td>15238</td>\n",
       "    </tr>\n",
       "    <tr>\n",
       "      <th>9</th>\n",
       "      <td>LABRADOR RETRIEVER</td>\n",
       "      <td>YELLOW</td>\n",
       "      <td>TAFFY</td>\n",
       "      <td>15228</td>\n",
       "    </tr>\n",
       "    <tr>\n",
       "      <th>10</th>\n",
       "      <td>BICHON FRISE</td>\n",
       "      <td>WHITE</td>\n",
       "      <td>DUDE</td>\n",
       "      <td>15238</td>\n",
       "    </tr>\n",
       "    <tr>\n",
       "      <th>11</th>\n",
       "      <td>LHASA APSO MIX</td>\n",
       "      <td>WHITE/BROWN</td>\n",
       "      <td>CHICKIE</td>\n",
       "      <td>15238</td>\n",
       "    </tr>\n",
       "    <tr>\n",
       "      <th>12</th>\n",
       "      <td>AM PITT BULL MIX</td>\n",
       "      <td>BROWN</td>\n",
       "      <td>KING</td>\n",
       "      <td>15235</td>\n",
       "    </tr>\n",
       "    <tr>\n",
       "      <th>13</th>\n",
       "      <td>AM PITT BULL MIX</td>\n",
       "      <td>WHITE</td>\n",
       "      <td>EMILY</td>\n",
       "      <td>15108</td>\n",
       "    </tr>\n",
       "    <tr>\n",
       "      <th>14</th>\n",
       "      <td>BRITTANY SPANIEL</td>\n",
       "      <td>WHITE/BROWN</td>\n",
       "      <td>ELLIE</td>\n",
       "      <td>15228</td>\n",
       "    </tr>\n",
       "    <tr>\n",
       "      <th>15</th>\n",
       "      <td>MIXED</td>\n",
       "      <td>WHITE</td>\n",
       "      <td>RUSTY</td>\n",
       "      <td>15120</td>\n",
       "    </tr>\n",
       "    <tr>\n",
       "      <th>16</th>\n",
       "      <td>TERRIER MIX</td>\n",
       "      <td>SPOTTED</td>\n",
       "      <td>NaN</td>\n",
       "      <td>15239</td>\n",
       "    </tr>\n",
       "    <tr>\n",
       "      <th>17</th>\n",
       "      <td>COCKER SPANIEL</td>\n",
       "      <td>BLONDE</td>\n",
       "      <td>JUILET</td>\n",
       "      <td>15214</td>\n",
       "    </tr>\n",
       "    <tr>\n",
       "      <th>18</th>\n",
       "      <td>COCKER SPANIEL</td>\n",
       "      <td>BLACK</td>\n",
       "      <td>ROMEO</td>\n",
       "      <td>15214</td>\n",
       "    </tr>\n",
       "    <tr>\n",
       "      <th>19</th>\n",
       "      <td>MALTESE</td>\n",
       "      <td>WHITE</td>\n",
       "      <td>LOLA</td>\n",
       "      <td>15235</td>\n",
       "    </tr>\n",
       "  </tbody>\n",
       "</table>\n",
       "</div>"
      ],
      "text/plain": [
       "                  Breed        Color            DogName  OwnerZip\n",
       "0              COCKAPOO        BROWN            CHARLEY     15236\n",
       "1          GER SHEPHERD  BLACK/BROWN             TACODA     15238\n",
       "2         BELG MALINOIS      BRINDLE               EICH     15238\n",
       "3                 MIXED  BLACK/BROWN              ARROW     15104\n",
       "4   AM PIT BULL TERRIER  WHITE/BROWN             OAKLEY     15139\n",
       "5      SCOTTISH TERRIER        BLACK             BAILEY     15129\n",
       "6     YORKSHIRE TERRIER    BLACK/TAN  MIMI PEARL FOSTER     15090\n",
       "7         DACHSHUND MIX  WHITE/BROWN              LEROI     15101\n",
       "8     SHETLAND SHEEPDOG  WHITE/BROWN         ZOE VITSAS     15238\n",
       "9    LABRADOR RETRIEVER       YELLOW              TAFFY     15228\n",
       "10         BICHON FRISE        WHITE               DUDE     15238\n",
       "11       LHASA APSO MIX  WHITE/BROWN            CHICKIE     15238\n",
       "12     AM PITT BULL MIX        BROWN               KING     15235\n",
       "13     AM PITT BULL MIX        WHITE              EMILY     15108\n",
       "14     BRITTANY SPANIEL  WHITE/BROWN              ELLIE     15228\n",
       "15                MIXED        WHITE              RUSTY     15120\n",
       "16          TERRIER MIX      SPOTTED                NaN     15239\n",
       "17       COCKER SPANIEL       BLONDE             JUILET     15214\n",
       "18       COCKER SPANIEL        BLACK              ROMEO     15214\n",
       "19              MALTESE        WHITE               LOLA     15235"
      ]
     },
     "execution_count": 4,
     "metadata": {},
     "output_type": "execute_result"
    }
   ],
   "source": [
    "my_df.head(20)"
   ]
  },
  {
   "cell_type": "code",
   "execution_count": 5,
   "metadata": {},
   "outputs": [
    {
     "data": {
      "text/plain": [
       "DogName\n",
       "LUCY        35\n",
       "BELLA       30\n",
       "BUDDY       29\n",
       "BAILEY      29\n",
       "DAISY       26\n",
       "            ..\n",
       "GROOT        1\n",
       "POCO JAX     1\n",
       "ERIS         1\n",
       "BRAX         1\n",
       "CLEMMIE      1\n",
       "Name: count, Length: 1428, dtype: int64"
      ]
     },
     "execution_count": 5,
     "metadata": {},
     "output_type": "execute_result"
    }
   ],
   "source": [
    "my_df['DogName'].value_counts()"
   ]
  },
  {
   "cell_type": "code",
   "execution_count": 6,
   "metadata": {},
   "outputs": [
    {
     "data": {
      "text/plain": [
       "DogName\n",
       "LUCY       35\n",
       "BELLA      30\n",
       "BAILEY     29\n",
       "BUDDY      29\n",
       "DAISY      26\n",
       "           ..\n",
       "LOKI        1\n",
       "BULLA       1\n",
       "MARGE       1\n",
       "NINO        1\n",
       "WINSLOW     1\n",
       "Name: count, Length: 1429, dtype: int64"
      ]
     },
     "execution_count": 6,
     "metadata": {},
     "output_type": "execute_result"
    }
   ],
   "source": [
    "my_df['DogName'].value_counts(dropna=False)"
   ]
  },
  {
   "cell_type": "code",
   "execution_count": 7,
   "metadata": {},
   "outputs": [
    {
     "data": {
      "text/plain": [
       "Color\n",
       "BLACK                   0.139212\n",
       "BROWN                   0.115947\n",
       "WHITE                   0.084803\n",
       "WHITE/BLACK             0.073546\n",
       "BLACK/BROWN             0.068668\n",
       "                          ...   \n",
       "BROWN/ORANGE            0.000375\n",
       "BLACK/ORANGE/BRINDLE    0.000375\n",
       "BROWN/FAWN              0.000375\n",
       "BLACK/BROWN/GREY        0.000375\n",
       "BROWN/LIVER             0.000375\n",
       "Name: proportion, Length: 72, dtype: float64"
      ]
     },
     "execution_count": 7,
     "metadata": {},
     "output_type": "execute_result"
    }
   ],
   "source": [
    "my_df['Color'].value_counts(normalize=True)"
   ]
  },
  {
   "cell_type": "code",
   "execution_count": 8,
   "metadata": {},
   "outputs": [
    {
     "name": "stdout",
     "output_type": "stream",
     "text": [
      "226\n"
     ]
    }
   ],
   "source": [
    "print(my_df['Color'].value_counts()['WHITE'])"
   ]
  },
  {
   "cell_type": "code",
   "execution_count": 9,
   "metadata": {},
   "outputs": [
    {
     "data": {
      "text/plain": [
       "Color\n",
       "APRICOT              15\n",
       "BEIGE                 5\n",
       "BLACK               371\n",
       "BLACK WITH WHITE     21\n",
       "BLACK/BRINDLE         5\n",
       "                   ... \n",
       "WHITE/ORANGE          5\n",
       "WHITE/RED            14\n",
       "WHITE/TAN            50\n",
       "WHITE/YELLOW          2\n",
       "YELLOW               51\n",
       "Length: 72, dtype: int64"
      ]
     },
     "execution_count": 9,
     "metadata": {},
     "output_type": "execute_result"
    }
   ],
   "source": [
    "my_df.groupby('Color').size()"
   ]
  },
  {
   "cell_type": "code",
   "execution_count": 10,
   "metadata": {},
   "outputs": [
    {
     "data": {
      "text/html": [
       "<div>\n",
       "<style scoped>\n",
       "    .dataframe tbody tr th:only-of-type {\n",
       "        vertical-align: middle;\n",
       "    }\n",
       "\n",
       "    .dataframe tbody tr th {\n",
       "        vertical-align: top;\n",
       "    }\n",
       "\n",
       "    .dataframe thead th {\n",
       "        text-align: right;\n",
       "    }\n",
       "</style>\n",
       "<table border=\"1\" class=\"dataframe\">\n",
       "  <thead>\n",
       "    <tr style=\"text-align: right;\">\n",
       "      <th></th>\n",
       "      <th>Breed</th>\n",
       "      <th>DogName</th>\n",
       "      <th>OwnerZip</th>\n",
       "    </tr>\n",
       "    <tr>\n",
       "      <th>Color</th>\n",
       "      <th></th>\n",
       "      <th></th>\n",
       "      <th></th>\n",
       "    </tr>\n",
       "  </thead>\n",
       "  <tbody>\n",
       "    <tr>\n",
       "      <th>APRICOT</th>\n",
       "      <td>15</td>\n",
       "      <td>15</td>\n",
       "      <td>15</td>\n",
       "    </tr>\n",
       "    <tr>\n",
       "      <th>BEIGE</th>\n",
       "      <td>5</td>\n",
       "      <td>5</td>\n",
       "      <td>5</td>\n",
       "    </tr>\n",
       "    <tr>\n",
       "      <th>BLACK</th>\n",
       "      <td>371</td>\n",
       "      <td>371</td>\n",
       "      <td>371</td>\n",
       "    </tr>\n",
       "    <tr>\n",
       "      <th>BLACK WITH WHITE</th>\n",
       "      <td>21</td>\n",
       "      <td>21</td>\n",
       "      <td>21</td>\n",
       "    </tr>\n",
       "    <tr>\n",
       "      <th>BLACK/BRINDLE</th>\n",
       "      <td>5</td>\n",
       "      <td>5</td>\n",
       "      <td>5</td>\n",
       "    </tr>\n",
       "    <tr>\n",
       "      <th>...</th>\n",
       "      <td>...</td>\n",
       "      <td>...</td>\n",
       "      <td>...</td>\n",
       "    </tr>\n",
       "    <tr>\n",
       "      <th>WHITE/ORANGE</th>\n",
       "      <td>5</td>\n",
       "      <td>5</td>\n",
       "      <td>5</td>\n",
       "    </tr>\n",
       "    <tr>\n",
       "      <th>WHITE/RED</th>\n",
       "      <td>14</td>\n",
       "      <td>14</td>\n",
       "      <td>14</td>\n",
       "    </tr>\n",
       "    <tr>\n",
       "      <th>WHITE/TAN</th>\n",
       "      <td>50</td>\n",
       "      <td>50</td>\n",
       "      <td>50</td>\n",
       "    </tr>\n",
       "    <tr>\n",
       "      <th>WHITE/YELLOW</th>\n",
       "      <td>2</td>\n",
       "      <td>2</td>\n",
       "      <td>2</td>\n",
       "    </tr>\n",
       "    <tr>\n",
       "      <th>YELLOW</th>\n",
       "      <td>51</td>\n",
       "      <td>51</td>\n",
       "      <td>51</td>\n",
       "    </tr>\n",
       "  </tbody>\n",
       "</table>\n",
       "<p>72 rows × 3 columns</p>\n",
       "</div>"
      ],
      "text/plain": [
       "                  Breed  DogName  OwnerZip\n",
       "Color                                     \n",
       "APRICOT              15       15        15\n",
       "BEIGE                 5        5         5\n",
       "BLACK               371      371       371\n",
       "BLACK WITH WHITE     21       21        21\n",
       "BLACK/BRINDLE         5        5         5\n",
       "...                 ...      ...       ...\n",
       "WHITE/ORANGE          5        5         5\n",
       "WHITE/RED            14       14        14\n",
       "WHITE/TAN            50       50        50\n",
       "WHITE/YELLOW          2        2         2\n",
       "YELLOW               51       51        51\n",
       "\n",
       "[72 rows x 3 columns]"
      ]
     },
     "execution_count": 10,
     "metadata": {},
     "output_type": "execute_result"
    }
   ],
   "source": [
    "my_df.groupby('Color').count()"
   ]
  },
  {
   "cell_type": "code",
   "execution_count": 11,
   "metadata": {},
   "outputs": [
    {
     "data": {
      "text/plain": [
       "Breed                Color              DogName       OwnerZip\n",
       "MALTESE              WHITE              LOLA          15235       3\n",
       "BEAGLE               WHITE/BLACK/BROWN  MAEBY AXFORD  15108       2\n",
       "LAB MIX              BLACK              LUCY          15044       2\n",
       "BOXER MIX            BRINDLE            SKYE          15057       2\n",
       "LAB MIX              BLACK              BUDDY         15044       2\n",
       "                                                                 ..\n",
       "AM PIT BULL TERRIER  WHITE              SAGE          15237       1\n",
       "                                        SNOOP         15212       1\n",
       "                     WHITE/BLACK        LUCY          15239       1\n",
       "                                        OTIS          15146       1\n",
       "AIREDALE TERRIER     BLACK/BROWN        ZEKE          15108       1\n",
       "Name: count, Length: 2648, dtype: int64"
      ]
     },
     "execution_count": 11,
     "metadata": {},
     "output_type": "execute_result"
    }
   ],
   "source": [
    "my_df.value_counts()"
   ]
  }
 ],
 "metadata": {
  "kernelspec": {
   "display_name": "Python 3",
   "language": "python",
   "name": "python3"
  },
  "language_info": {
   "codemirror_mode": {
    "name": "ipython",
    "version": 3
   },
   "file_extension": ".py",
   "mimetype": "text/x-python",
   "name": "python",
   "nbconvert_exporter": "python",
   "pygments_lexer": "ipython3",
   "version": "3.12.4"
  }
 },
 "nbformat": 4,
 "nbformat_minor": 2
}
